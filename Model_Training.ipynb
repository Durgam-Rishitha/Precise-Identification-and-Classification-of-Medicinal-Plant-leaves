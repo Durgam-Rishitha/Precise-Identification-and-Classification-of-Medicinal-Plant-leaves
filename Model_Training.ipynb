{
  "nbformat": 4,
  "nbformat_minor": 0,
  "metadata": {
    "colab": {
      "provenance": []
    },
    "kernelspec": {
      "name": "python3",
      "display_name": "Python 3"
    },
    "language_info": {
      "name": "python"
    }
  },
  "cells": [
    {
      "cell_type": "code",
      "execution_count": null,
      "metadata": {
        "id": "0mxRHzxDoFEM"
      },
      "outputs": [],
      "source": [
        "from google.colab import drive\n",
        "drive.mount('/content/drive')"
      ]
    },
    {
      "cell_type": "code",
      "source": [
        "import tensorflow as tf\n",
        "from tensorflow import keras\n",
        "from tensorflow.keras import layers\n",
        "from tensorflow.keras.preprocessing.image import ImageDataGenerator\n",
        "from tensorflow.keras.preprocessing.image import load_img, img_to_array\n",
        "import numpy as np\n",
        "import matplotlib.pyplot as plt\n",
        "import numpy as np\n",
        "import pandas as pd\n",
        "import matplotlib.pyplot as plt\n",
        "import tensorflow_hub as hub\n",
        "import tensorflow_datasets as tfds\n",
        "from tensorflow.keras import layers\n",
        "\n",
        "import numpy as np\n",
        "import matplotlib.pyplot as plt\n",
        "import tensorflow_hub as hub\n",
        "import tensorflow_datasets as tfds\n",
        "from tensorflow.keras import layers"
      ],
      "metadata": {
        "id": "Nx1YXAOQoU_B"
      },
      "execution_count": null,
      "outputs": []
    },
    {
      "cell_type": "code",
      "source": [
        "from tensorflow.keras import layers, models\n",
        "from tensorflow.keras.preprocessing.image import ImageDataGenerator\n",
        "import tensorflow as tf\n",
        "from tensorflow import keras\n",
        "import cv2\n",
        "import os\n",
        "import numpy as np"
      ],
      "metadata": {
        "id": "T9emd9vkoa_8"
      },
      "execution_count": null,
      "outputs": []
    },
    {
      "cell_type": "code",
      "source": [
        "dataset_path= './top_15_species'"
      ],
      "metadata": {
        "id": "W9XXos9Lob1F"
      },
      "execution_count": null,
      "outputs": []
    },
    {
      "cell_type": "code",
      "source": [
        "def load_and_preprocess_images(dataset_path, image_size=(128, 128)):\n",
        "    images = []\n",
        "    labels = []\n",
        "\n",
        "    # Iterate through class directories\n",
        "    for class_dir in os.listdir(dataset_path):\n",
        "        class_path = os.path.join(dataset_path, class_dir)\n",
        "        class_label = int(class_dir)  # Convert directory name to label if needed\n",
        "\n",
        "        # Iterate through images in the class directory\n",
        "        for image_file in os.listdir(class_path):\n",
        "            image_path = os.path.join(class_path, image_file)\n",
        "\n",
        "            # Read and preprocess the image\n",
        "            image = cv2.imread(image_path)\n",
        "            image = cv2.resize(image, image_size)\n",
        "            image = image.astype(np.float32) / 255.0  # Normalize pixel values\n",
        "\n",
        "            # Append the image and label to lists\n",
        "            images.append(image)\n",
        "            labels.append(class_label)\n",
        "\n",
        "    return np.array(images), np.array(labels)"
      ],
      "metadata": {
        "id": "_PoR0bdgoiDp"
      },
      "execution_count": null,
      "outputs": []
    },
    {
      "cell_type": "code",
      "source": [
        "import tensorflow as tf\n",
        "from tensorflow.keras.applications import InceptionV3\n",
        "from tensorflow.keras.layers import Dense, GlobalAveragePooling2D\n",
        "from tensorflow.keras.models import Model\n",
        "\n",
        "# Constants\n",
        "IMAGE_RES = 224\n",
        "BATCH_SIZE = 32\n",
        "# Load the dataset\n",
        "data = tf.keras.utils.image_dataset_from_directory(\n",
        "    dataset_path,\n",
        "    image_size=(IMAGE_RES, IMAGE_RES),\n",
        "    batch_size=BATCH_SIZE,\n",
        "    validation_split=0.2,  # 20% of the data will be used for testing\n",
        "    subset=\"training\",     # Specify \"training\" to get the training subset\n",
        "    seed=42,\n",
        "    label_mode='int'\n",
        ")\n",
        "num_examples = data.cardinality().numpy()\n",
        "num_classes = len(data.class_names)\n",
        "\n",
        "# Split the data into training and testing\n",
        "testing_data = tf.keras.utils.image_dataset_from_directory(\n",
        "    dataset_path,\n",
        "    image_size=(IMAGE_RES, IMAGE_RES),\n",
        "    batch_size=BATCH_SIZE,\n",
        "    validation_split=0.2,  # No validation split for testing\n",
        "    seed=42,\n",
        "    label_mode='int',\n",
        "    subset=\"validation\"    # Specify \"validation\" to get the testing subset\n",
        ")"
      ],
      "metadata": {
        "id": "PENfsKaJolcC"
      },
      "execution_count": null,
      "outputs": []
    },
    {
      "cell_type": "code",
      "source": [
        "for images, labels in data.take(1):  # Take one batch from the dataset\n",
        "    print(labels)"
      ],
      "metadata": {
        "id": "aONSmerronCm"
      },
      "execution_count": null,
      "outputs": []
    },
    {
      "cell_type": "code",
      "source": [
        "import matplotlib.pyplot as plt\n",
        "import numpy as np\n",
        "\n",
        "plt.figure(figsize=(15, 10))\n",
        "\n",
        "# Dictionary to store one image per species\n",
        "class_images = {}\n",
        "class_labels = {}\n",
        "\n",
        "# Iterate through batches until all 15 species are found\n",
        "for images, labels in train_batches:\n",
        "    images = images.numpy()  # Convert tensors to NumPy\n",
        "    labels = labels.numpy()\n",
        "\n",
        "    for i in range(len(labels)):\n",
        "        class_name = data.class_names[labels[i]]\n",
        "\n",
        "        # Store only one image per class\n",
        "        if class_name not in class_images:\n",
        "            # Corrected the transpose to move color channel to last dimension\n",
        "            class_images[class_name] = np.transpose(images[i] * 255, (1, 0, 2)).astype(\"uint8\")\n",
        "            class_labels[class_name] = labels[i]\n",
        "\n",
        "        # Stop when we have all 15 species\n",
        "        if len(class_images) == 15:\n",
        "            break\n",
        "    if len(class_images) == 15:\n",
        "        break\n",
        "\n",
        "# Plot the images with scale labels\n",
        "for i, (class_name, img) in enumerate(class_images.items()):\n",
        "    ax = plt.subplot(3, 5, i + 1)\n",
        "    plt.imshow(img)\n",
        "    plt.title(class_name)\n",
        "    plt.axis(\"on\")  # Turn on the axis\n",
        "\n",
        "    # Label x and y axis\n",
        "    ax.set_xlabel(\"Width (pixels)\")\n",
        "    ax.set_ylabel(\"Height (pixels)\")\n",
        "\n",
        "    # Set ticks at intervals (optional: adjust spacing)\n",
        "    h, w, _ = img.shape\n",
        "    ax.set_xticks(np.linspace(0, w, num=5))  # 5 tick marks along width\n",
        "    ax.set_yticks(np.linspace(0, h, num=5))  # 5 tick marks along height\n",
        "\n",
        "    # Format tick labels (optional)\n",
        "    ax.set_xticklabels([f\"{int(x)}\" for x in np.linspace(0, w, num=5)])\n",
        "    ax.set_yticklabels([f\"{int(y)}\" for y in np.linspace(0, h, num=5)])\n",
        "\n",
        "plt.tight_layout()  # Adjust layout to prevent overlap\n",
        "plt.show()\n"
      ],
      "metadata": {
        "id": "hNgYSWF_oq2R"
      },
      "execution_count": null,
      "outputs": []
    },
    {
      "cell_type": "code",
      "source": [
        "base_model = tf.keras.applications.InceptionV3(\n",
        "    input_shape=(IMAGE_RES, IMAGE_RES, 3),\n",
        "    include_top=False,\n",
        "    weights='imagenet'\n",
        ")"
      ],
      "metadata": {
        "id": "rt7Z9m-GovcZ"
      },
      "execution_count": null,
      "outputs": []
    },
    {
      "cell_type": "code",
      "source": [
        "base_model.trainable = False"
      ],
      "metadata": {
        "id": "6Q_ETAThoyof"
      },
      "execution_count": null,
      "outputs": []
    },
    {
      "cell_type": "code",
      "source": [
        "global_average_layer = tf.keras.layers.GlobalAveragePooling2D()\n",
        "prediction_layer = tf.keras.layers.Dense(num_classes, activation='softmax')\n",
        "\n",
        "# Create the final model\n",
        "model = tf.keras.Sequential([\n",
        "    base_model,\n",
        "    global_average_layer,\n",
        "    prediction_layer\n",
        "])"
      ],
      "metadata": {
        "id": "UcuPgHW8o1e4"
      },
      "execution_count": null,
      "outputs": []
    },
    {
      "cell_type": "code",
      "source": [
        "model.compile(\n",
        "    optimizer='adam',\n",
        "    loss='sparse_categorical_crossentropy',\n",
        "    metrics=['accuracy']\n",
        ")\n"
      ],
      "metadata": {
        "id": "2bfiQiHLo6ET"
      },
      "execution_count": null,
      "outputs": []
    },
    {
      "cell_type": "code",
      "source": [
        "history = model.fit(train_batches, validation_data=validation_batches, epochs=10)"
      ],
      "metadata": {
        "id": "5prvhlITo9Nr"
      },
      "execution_count": null,
      "outputs": []
    }
  ]
}